{
 "cells": [
  {
   "cell_type": "markdown",
   "id": "274da626-e35d-4760-a2cf-6d7c40dba602",
   "metadata": {},
   "source": [
    "## Практическое задание к уроку 8: \"Производные функций нескольких переменных. Часть 1\""
   ]
  },
  {
   "cell_type": "markdown",
   "id": "646fbf28-000f-42be-8833-a592c360e949",
   "metadata": {
    "tags": []
   },
   "source": [
    "**1. Найти область определения функции.**"
   ]
  },
  {
   "cell_type": "markdown",
   "id": "1dca18bc-5e02-426d-8d5d-5de59d534cba",
   "metadata": {},
   "source": [
    "$$z = \\sqrt{1-x^3} + \\ln{(y^2-1)}$$"
   ]
  },
  {
   "attachments": {
    "89e6d9be-b71f-4d85-958a-fc0a70e0ede1.png": {
     "image/png": "[encoded data removed]"
    }
   },
   "cell_type": "markdown",
   "id": "bcbd5a8f-a660-4010-b5a8-aa82968b92b4",
   "metadata": {},
   "source": [
    "$z = \\sqrt{1-x^3} + \\ln{(y^2-1)}$  \n",
    "$y^2-1>0$  \n",
    "$(y-1) \\cdot (y+1)>0$  \n",
    "$y_1 = 1$  \n",
    "$y_2 = -1$  \n",
    "![image.png](attachment:89e6d9be-b71f-4d85-958a-fc0a70e0ede1.png)  \n",
    "$y(-2) = (-2-1) \\cdot (-2+1) = 3>0$  \n",
    "$y(0) = (0-1) \\cdot (0+1) = -1<0$  \n",
    "$y(2) = (2-1) \\cdot (2+1) = 3>0$  \n",
    "$y \\in (-\\infty; -1) \\& (1; +\\infty)$\n",
    "\n",
    "$1-x^3\\geq0$  \n",
    "$x \\in (-\\infty; 1]$"
   ]
  },
  {
   "cell_type": "markdown",
   "id": "e1a53e75-a5c7-4e35-8390-54cfe8bcf9f8",
   "metadata": {},
   "source": [
    "**2. Найти производные 1-го порядка функции.**"
   ]
  },
  {
   "cell_type": "markdown",
   "id": "c9905543-ca85-43d8-91af-33bd43a88b31",
   "metadata": {},
   "source": [
    "$$z = \\left(1 + \\frac{\\ln{x}}{\\ln{y}}\\right)^3$$"
   ]
  },
  {
   "cell_type": "markdown",
   "id": "6d68055f-eeb3-41cc-b557-51a7271eb10f",
   "metadata": {},
   "source": [
    "$z = \\left(1 + \\frac{\\ln{x}}{\\ln{y}}\\right)^3$  \n",
    "$z'_x = \\left(\\left(1+\\frac{\\ln{x}}{\\ln{y}}\\right)^3\\right)' = 3 \\cdot \\left(1+\\frac{\\ln{x}}{\\ln{y}}\\right)^2 \\cdot \\frac{1}{\\ln{y}} \\cdot \\frac{1}{x} = \\frac{3}{x\\ln{y}} \\cdot \\left(1+\\frac{\\ln{x}}{\\ln{y}}\\right)^2$   \n",
    "$z'_y = \\left(\\left(1+\\frac{\\ln{x}}{\\ln{y}}\\right)^3\\right)' = \\left(\\left(1+\\ln{x} \\cdot (\\ln{y})^{-1}\\right)^3\\right)' = 3 \\cdot \\left(1+\\frac{\\ln{x}}{\\ln{y}}\\right)^2 \\cdot \\left(-1 \\cdot \\ln{x} \\cdot (\\ln{y})^{-2} \\cdot \\frac{1}{y}\\right) = - \\frac{3 \\cdot \\ln{x}}{y \\cdot (\\ln{y})^2} \\cdot \\left(1 + \\frac{\\ln{x}}{\\ln{y}}\\right)^2$"
   ]
  },
  {
   "cell_type": "markdown",
   "id": "fdf4d635-8ba6-45ca-9630-f2fee1b04ca0",
   "metadata": {},
   "source": [
    "**3. Найти полный дифференциал функции в точке (1;1).**"
   ]
  },
  {
   "cell_type": "markdown",
   "id": "4364dbcf-c7cd-45a9-bda3-4f0afc303e6f",
   "metadata": {},
   "source": [
    "$$z = \\sqrt{2xy + \\cos{\\frac{x}{y}}}$$"
   ]
  },
  {
   "cell_type": "markdown",
   "id": "aedf68bb-5b4c-4444-8818-969a892dab67",
   "metadata": {},
   "source": [
    "$z = \\sqrt{2xy + \\cos{\\frac{x}{y}}}$  \n",
    "$dz = z'_x \\cdot dx + z'_y \\cdot dy$  \n",
    "$z'_x = \\left(\\sqrt{2xy + \\cos{\\frac{x}{y}}}\\right)' = \\frac{1}{2 \\cdot \\sqrt{2xy + \\cos{\\frac{x}{y}}}} \\cdot \\left(2y - \\sin{\\frac{x}{y}} \\cdot \\frac{1}{y}\\right) = \\frac{\\left(2y - \\sin{\\frac{x}{y}} \\cdot \\frac{1}{y}\\right)}{2 \\cdot \\sqrt{2xy + \\cos{\\frac{x}{y}}}}$  \n",
    "$z'_y = \\left(\\sqrt{2xy + \\cos{\\frac{x}{y}}}\\right)' = \\frac{1}{2 \\cdot \\sqrt{2xy + \\cos{\\frac{x}{y}}}} \\cdot \\left(2x + \\sin{\\frac{x}{y}} \\cdot \\frac{1}{y^2}\\right) = \\frac{\\left(2x + \\sin{\\frac{x}{y}} \\cdot \\frac{1}{y^2}\\right)}{2 \\cdot \\sqrt{2xy + \\cos{\\frac{x}{y}}}}$  \n",
    "$dz = \\frac{\\left(2y - \\sin{\\frac{x}{y}} \\cdot \\frac{1}{y}\\right)}{2 \\cdot \\sqrt{2xy + \\cos{\\frac{x}{y}}}} \\cdot dx + \\frac{\\left(2x + \\sin{\\frac{x}{y}} \\cdot \\frac{1}{y^2}\\right)}{2 \\cdot \\sqrt{2xy + \\cos{\\frac{x}{y}}}} \\cdot dy$  \n",
    "$dz(1;1) = \\frac{\\left(2 - \\sin{1}\\right)}{2 \\cdot \\sqrt{2 + \\cos{1}}} \\cdot dx + \\frac{\\left(2 + \\sin{1} \\right)}{2 \\cdot \\sqrt{2 + \\cos{1}}} \\cdot dy$"
   ]
  },
  {
   "cell_type": "markdown",
   "id": "471e4137-81f4-491c-8073-642a25b29095",
   "metadata": {},
   "source": [
    "**4. Исследовать на экстремум функцию**"
   ]
  },
  {
   "cell_type": "markdown",
   "id": "6ae4ed16-1947-44e3-8578-700c5bd6a8cf",
   "metadata": {},
   "source": [
    "$$z = x^2 + xy + y^2 - 6x - 9y$$"
   ]
  },
  {
   "cell_type": "markdown",
   "id": "07f2e2c4-c8bc-4e22-9697-38f7e832b519",
   "metadata": {},
   "source": [
    "$z = x^2 + xy + y^2 - 6x - 9y$  \n",
    "\n",
    "Необходимое условие  \n",
    "$\\begin{cases}\n",
    "    z'_x = \\left(x^2 + xy + y^2 - 6x - 9y\\right)' = 2x + y - 6 = 0 \\\\\n",
    "    z'_y = \\left(x^2 + xy + y^2 - 6x - 9y\\right)' = x +2y - 9 = 0\n",
    "\\end{cases}$  \n",
    "Из 2-го уравнения:\n",
    "$x = 9 - 2y$\n",
    "Тогда:  \n",
    "$18 - 4y + y - 6 = 0$  \n",
    "$-3y = -12$  \n",
    "$y = 4$  \n",
    "$x = 9 - 2y = 9 - 2 \\cdot 4 = 1$  \n",
    "Точка $M_0 = (1; 4)$ - точка возможного экстемума  \n",
    "\n",
    "Достаточное условие  \n",
    "$z''_{xx} = (2x + y - 6)' = 2$  \n",
    "$z''_{xy} = (2x + y - 6)' = 1$  \n",
    "$z''_{yx} = (x +2y - 9)' = 1$  \n",
    "$z''_{yy} = (x +2y - 9)' = 2$  \n",
    "$\\Delta = $\n",
    "$\\begin{vmatrix}\n",
    "    2 & 1 \\\\\n",
    "    1 & 2\n",
    "\\end{vmatrix}$\n",
    "$= 2 \\cdot 2 + 1 \\cdot 1 = 5 > 0$  \n",
    "Следовательно, точка $M_0 = (1; 4)$ - точка экстремума.  \n",
    "Т.к. $z''_{xx} > 0$, то $M_0 = (1; 4)$ - точка максимума."
   ]
  },
  {
   "cell_type": "code",
   "execution_count": null,
   "id": "9636e1b8-f430-4277-8f19-e6a45f1749e7",
   "metadata": {},
   "outputs": [],
   "source": []
  }
 ],
 "metadata": {
  "kernelspec": {
   "display_name": "Python 3 (ipykernel)",
   "language": "python",
   "name": "python3"
  },
  "language_info": {
   "codemirror_mode": {
    "name": "ipython",
    "version": 3
   },
   "file_extension": ".py",
   "mimetype": "text/x-python",
   "name": "python",
   "nbconvert_exporter": "python",
   "pygments_lexer": "ipython3",
   "version": "3.9.7"
  }
 },
 "nbformat": 4,
 "nbformat_minor": 5
}
