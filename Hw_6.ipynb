{
 "cells": [
  {
   "cell_type": "markdown",
   "id": "274da626-e35d-4760-a2cf-6d7c40dba602",
   "metadata": {},
   "source": [
    "## Практическое задание к уроку 6: \"Производная функции одной переменной. Часть 1\""
   ]
  },
  {
   "cell_type": "markdown",
   "id": "646fbf28-000f-42be-8833-a592c360e949",
   "metadata": {},
   "source": [
    "**1. Найти производную выражения:**"
   ]
  },
  {
   "cell_type": "markdown",
   "id": "517eeaaa-3ece-4e28-97b6-7d041fdbe3ba",
   "metadata": {},
   "source": [
    "a. $$\\sin{x} \\cdot \\cos{x}$$"
   ]
  },
  {
   "cell_type": "markdown",
   "id": "fad87525-389c-46c1-8140-d3f925f2df79",
   "metadata": {},
   "source": [
    "$(\\sin{x} \\cdot \\cos{x})' = (\\sin{x})' \\cdot \\cos{x} + \\sin{x} \\cdot (\\cos{x})' = \\cos{x} \\cdot \\cos{x} - \\sin{x} \\cdot \\sin{x} = \\cos^2{x} - \\sin^2{x} = \\cos{2x}$"
   ]
  },
  {
   "cell_type": "markdown",
   "id": "ddc20004-5521-476f-8574-3732189a4b38",
   "metadata": {},
   "source": [
    "b. $$\\ln{(2x+1)^3}$$"
   ]
  },
  {
   "cell_type": "markdown",
   "id": "ba76a3eb-34fa-4435-a799-46e57dfbcdf2",
   "metadata": {},
   "source": [
    "$(\\ln{(2x+1)^3})' = \\frac{1}{(2x+1)^3} \\cdot 3(2x+1)^2 \\cdot 2 = \\frac{6(2x+1)^2}{(2x+1)^3} = \\frac{6}{2x+1}$"
   ]
  },
  {
   "cell_type": "markdown",
   "id": "3cec66be-8ffc-4db8-a7f3-3ea26527882c",
   "metadata": {},
   "source": [
    "c. $$\\sqrt{\\sin^2{\\ln{x^3}}}$$"
   ]
  },
  {
   "cell_type": "markdown",
   "id": "cb9ce369-5b7c-4df6-9976-857150033d3f",
   "metadata": {},
   "source": [
    "$(\\sqrt{\\sin^2{\\ln{x^3}}})' = \\frac{1}{2\\sqrt{\\sin^2{(\\ln{(x^3)})}}} \\cdot 2\\sin{(\\ln{(x^3)})} \\cdot \\cos{(\\ln{(x^3)})} \\cdot \\frac{1}{x^3} \\cdot 3x^2 = \\frac{3 \\sin{(\\ln{(x^3)})} \\cos{(\\ln{(x^3)})}}{x \\sqrt{\\sin^2{(\\ln{(x^3)})}}} = \\frac{3 \\sin{(\\ln{(x^3)})} \\cos{(\\ln{(x^3)})}}{x \\sin{(\\ln{(x^3)})}} = \\frac{3}{x} \\cdot \\cos{(\\ln{(x^3)})}$"
   ]
  },
  {
   "cell_type": "markdown",
   "id": "5b977f27-0579-4081-9744-fc8603b08d7b",
   "metadata": {},
   "source": [
    "или"
   ]
  },
  {
   "cell_type": "markdown",
   "id": "621a3ae3-8290-4830-a5e6-2f2d5e9ace24",
   "metadata": {},
   "source": [
    "$(\\sqrt{\\sin^2{\\ln{x^3}}})' = (\\sin{\\ln{x^3}})'= \\cos{(\\ln{(x^3)})} \\cdot \\frac{1}{x^3} \\cdot 3x^2  = \\frac{3}{x} \\cdot \\cos{(\\ln{(x^3)})}$"
   ]
  },
  {
   "cell_type": "markdown",
   "id": "52b407d7-803b-4df4-819c-f4a40ebb6a3a",
   "metadata": {},
   "source": [
    "d. $$\\frac{x^4}{\\ln{(x)}}$$"
   ]
  },
  {
   "cell_type": "markdown",
   "id": "e7c4386f-d345-446d-ba1f-b064dd4048de",
   "metadata": {},
   "source": [
    "$(\\frac{x^4}{\\ln{(x)}})' = \\frac{(x^4)' \\cdot \\ln{(x)} - x^4 \\cdot (\\ln{(x)})'}{\\ln^2{(x)}} = \\frac{4x^3 \\cdot \\ln{(x)} - x^4 \\cdot \\frac{1}{x}}{\\ln^2{(x)}} = \\frac{x^3 \\cdot (4 \\ln{(x)} -1)}{\\ln^2{(x)}}$"
   ]
  },
  {
   "cell_type": "markdown",
   "id": "e1a53e75-a5c7-4e35-8390-54cfe8bcf9f8",
   "metadata": {},
   "source": [
    "**2. Найти выражение производной функции и ее значение в точке:**"
   ]
  },
  {
   "cell_type": "markdown",
   "id": "ca68d921-c057-48f6-849f-1aab44bf6f3c",
   "metadata": {},
   "source": [
    "$$f(x) = \\cos{(x^2+3x)}, x_0=\\sqrt{\\pi}$$"
   ]
  },
  {
   "cell_type": "markdown",
   "id": "5de1a65a-5059-4ae4-9fbd-486271f5f836",
   "metadata": {},
   "source": [
    "$f(x) = \\cos{(x^2 + 3x)}$  \n",
    "$f'(x) =(\\cos{(x^2 + 3x)})' = -\\sin{(x^2 + 3x)} \\cdot (2x + 3)$  \n",
    "$f'(\\pi) = -sin{((\\sqrt{\\pi})^2) + 3\\sqrt{\\pi}} \\cdot (2\\sqrt{\\pi} +3) = -\\sin{(\\pi + 3\\sqrt{\\pi})} \\cdot (2\\sqrt{\\pi} + 3)$"
   ]
  },
  {
   "cell_type": "markdown",
   "id": "f35ec6ef-d499-49fa-8da1-b4bdc9c31b2c",
   "metadata": {},
   "source": [
    "**3. Найти значение производной функции в точке:**"
   ]
  },
  {
   "cell_type": "markdown",
   "id": "4a74179d-86a3-4ada-bd68-4ca57946cbc1",
   "metadata": {},
   "source": [
    "$$f(x) = \\frac{x^3-x^2-x-1}{1+2x+3x^2-4x^3}, x_0=0$$"
   ]
  },
  {
   "cell_type": "markdown",
   "id": "372d84cb-0522-4767-b248-6b155ed27cdf",
   "metadata": {},
   "source": [
    "$f(x) = \\frac{x^3-x^2-x-1}{1+2x+3x^2-4x^3}$  \n",
    "$f'(x) = (\\frac{x^3 - x^2 - x - 1}{1 + 2x + 3x^2 - 4x^3})' = \\frac{(x^3 - x^2 - x - 1)' \\cdot (1 + 2x + 3x^2 - 4x^3) - (x^3 - x^2 - x - 1) \\cdot (1 + 2x + 3x^2 - 4x^3)'}{(1 + 2x + 3x^2 - 4x^3)^2} = \\frac{(3x^2 - 2x - 1) \\cdot (1 + 2x + 3x^2 - 4x^3) - (x^3 - x^2 - x - 1) \\cdot (2 + 6x - 12x^2)}{(1 + 2x + 3x^2 - 4x^3)^2}$  \n",
    "$f'(0) = \\frac{(0 - 0 - 1) \\cdot (1 + 0 + 0 - 0) - (0 - 0 - 0 - 1) \\cdot (2 + 0 - 0)}{(1 + 0 + 0 - 0)^2} = \\frac{(-1) \\cdot (1) - (-1) \\cdot (2)}{(1)^2} = \\frac{-1+2}{1} = 1 $"
   ]
  },
  {
   "cell_type": "markdown",
   "id": "da38e74c-fece-4e5f-9388-4e6d229afb13",
   "metadata": {},
   "source": [
    "**4. Найти угол наклона касательной к графику функции в точке:**"
   ]
  },
  {
   "cell_type": "markdown",
   "id": "0afadbae-1421-4a16-80fb-5313d842210d",
   "metadata": {},
   "source": [
    "$$f(x) = \\sqrt{3x} \\cdot \\ln{x}, x_0=1$$"
   ]
  },
  {
   "cell_type": "markdown",
   "id": "79b6ad28-3f2c-4488-aabc-5e5517c4002a",
   "metadata": {},
   "source": [
    "$f(x) = \\sqrt{3x} \\cdot \\ln{x}$  \n",
    "$f'(x) = (\\sqrt{3x} \\cdot \\ln{x})' = (\\sqrt{3x})' \\cdot \\ln{x} + \\sqrt{3x} \\cdot (\\ln{x})' = \\frac{1 \\cdot 3}{2\\sqrt{3x}} \\cdot \\ln{x} + \\sqrt{3x} \\cdot \\frac{1}{x} = \\frac{3\\ln{x}}{2\\sqrt{3x}} + \\frac{\\sqrt{3x}}{x}$  \n",
    "$f'(1) = \\frac{3 \\cdot 0}{2\\sqrt{3}} + \\frac{\\sqrt{3}}{1} = \\sqrt{3}$  \n",
    "$\\tan{(\\alpha)} = \\tan{(\\sqrt{3})} = 60^{\\circ}$"
   ]
  }
 ],
 "metadata": {
  "kernelspec": {
   "display_name": "Python 3 (ipykernel)",
   "language": "python",
   "name": "python3"
  },
  "language_info": {
   "codemirror_mode": {
    "name": "ipython",
    "version": 3
   },
   "file_extension": ".py",
   "mimetype": "text/x-python",
   "name": "python",
   "nbconvert_exporter": "python",
   "pygments_lexer": "ipython3",
   "version": "3.9.7"
  }
 },
 "nbformat": 4,
 "nbformat_minor": 5
}
