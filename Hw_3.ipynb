{
 "cells": [
  {
   "cell_type": "markdown",
   "id": "274da626-e35d-4760-a2cf-6d7c40dba602",
   "metadata": {},
   "source": [
    "## Практическое задание к уроку 3: \"Множество. Последовательность. Часть 2\""
   ]
  },
  {
   "cell_type": "code",
   "execution_count": 1,
   "id": "9cb57395-c58d-4105-b1aa-57d17a72aa43",
   "metadata": {
    "tags": []
   },
   "outputs": [],
   "source": [
    "import random\n",
    "import itertools\n",
    "import math\n",
    "from sympy import factorial"
   ]
  },
  {
   "cell_type": "markdown",
   "id": "55eff14a-61a9-4f1c-9509-a9d9fe72f53d",
   "metadata": {
    "tags": []
   },
   "source": [
    "### Тема “Последовательность”\n",
    "\n",
    "1.   Даны 4 последовательности. \n",
    "\n",
    "Необходимо:  \n",
    "a. исследовать их на монотонность;  # Презентация_3, 23 слайд  \n",
    "b. исследовать на ограниченность;  # Презентация_3, 26 слайд  \n",
    "c. найти пятый по счету член.  \n",
    "\n",
    "\n",
    "\n",
    "\n",
    "\n",
    "\n",
    "\n",
    "\n"
   ]
  },
  {
   "cell_type": "code",
   "execution_count": 2,
   "id": "4227cffa-e8c5-4cb2-ab6e-db1238978c27",
   "metadata": {},
   "outputs": [],
   "source": [
    "# Искомый по счёту член\n",
    "n = 5"
   ]
  },
  {
   "cell_type": "code",
   "execution_count": 3,
   "id": "0594459e-02b3-403a-9ffe-dc7b6e09a18e",
   "metadata": {},
   "outputs": [],
   "source": [
    "def monotony(sequence):\n",
    "    for i in range(1, len(sequence)):\n",
    "        if sequence[i+1] < sequence[i]:\n",
    "            return 'Последовательность монотонно убывает'\n",
    "        elif sequence[i+1] > sequence[i]:\n",
    "            return 'Последовательность монотонно возрастает'\n",
    "        else:\n",
    "            return 'Последовательность не изменяется'"
   ]
  },
  {
   "cell_type": "markdown",
   "id": "c0b63a5c-e2ea-4b9d-81d0-730c5b3635d7",
   "metadata": {},
   "source": [
    "$$\\{a_n\\}^\\infty_{n=1} = 2^n - n$$"
   ]
  },
  {
   "cell_type": "code",
   "execution_count": 4,
   "id": "dc08d4ff-fbd4-4543-a98a-4cfe27ad525c",
   "metadata": {},
   "outputs": [
    {
     "name": "stdout",
     "output_type": "stream",
     "text": [
      "Последовательность монотонно возрастает\n",
      "Последовательность ограничена снизу числом 1\n",
      "5-й по счёту член последовательности равен: 27\n"
     ]
    }
   ],
   "source": [
    "def a(n):\n",
    "    return 2**n - n\n",
    "\n",
    "ns = list(range(1, n+1, 1))  # создаем список с номерами последовательности, с учётом ограничений\n",
    "elements = list(map(a, ns))\n",
    "\n",
    "print(monotony(elements))\n",
    "print(f'Последовательность ограничена снизу числом 1')\n",
    "#print(f'Первые {n} членов последовательности: \\n{elements}')\n",
    "print(f'{n}-й по счёту член последовательности равен: {a(ns[n-1])}')"
   ]
  },
  {
   "cell_type": "markdown",
   "id": "818ac36c-d32d-4d9a-b931-24335078a630",
   "metadata": {},
   "source": [
    "$$\\{b_n\\}^\\infty_{n=2} = \\frac{1}{(1-n)}$$ "
   ]
  },
  {
   "cell_type": "code",
   "execution_count": 5,
   "id": "760c6ebe-5f78-4584-91d3-7522b2b05db9",
   "metadata": {},
   "outputs": [
    {
     "name": "stdout",
     "output_type": "stream",
     "text": [
      "Последовательность монотонно возрастает\n",
      "Последовательность ограничена снизу числом 2\n",
      "5-й по счёту член последовательности равен: -0.2\n"
     ]
    }
   ],
   "source": [
    "def b(n):\n",
    "    return 1 / (1 - n)\n",
    "\n",
    "ns = list(range(2, n+2, 1)) \n",
    "elements = list(map(b, ns))\n",
    "\n",
    "print(monotony(elements))\n",
    "print(f'Последовательность ограничена снизу числом 2')\n",
    "#print(f'Первые {n} членов последовательности: \\n{elements}')\n",
    "print(f'{n}-й по счёту член последовательности равен: {b(ns[n-1])}')"
   ]
  },
  {
   "cell_type": "markdown",
   "id": "b12a553d-b2a5-419f-98a1-2b082e4d441c",
   "metadata": {},
   "source": [
    "$$\\{b_n\\}^\\infty_{n=1} = - 1^n + \\sqrt{2n}$$"
   ]
  },
  {
   "cell_type": "code",
   "execution_count": 6,
   "id": "7a755d08-71e0-4d76-8887-2c6ec4d15cf5",
   "metadata": {},
   "outputs": [
    {
     "name": "stdout",
     "output_type": "stream",
     "text": [
      "Последовательность монотонно возрастает\n",
      "Последовательность ограничена снизу числом 1\n",
      "5-й по счёту член последовательности равен: 2.1622776601683795\n"
     ]
    }
   ],
   "source": [
    "def b(n):\n",
    "    return -1**n + math.sqrt(2*n)\n",
    "\n",
    "ns = list(range(1, n+1, 1)) \n",
    "elements = list(map(b, ns))\n",
    "\n",
    "print(monotony(elements))\n",
    "print(f'Последовательность ограничена снизу числом 1')\n",
    "#print(f'Первые {n} членов последовательности: \\n{elements}')\n",
    "print(f'{n}-й по счёту член последовательности равен: {b(ns[n-1])}')"
   ]
  },
  {
   "cell_type": "markdown",
   "id": "e8ec043a-319e-43c5-99e9-67bfe72581e9",
   "metadata": {},
   "source": [
    "$$\\{d_n\\}_{n=1}^\\infty = (-1)^{2n} + \\frac{1}{n^2}$$"
   ]
  },
  {
   "cell_type": "code",
   "execution_count": 7,
   "id": "e37256b9-6813-44da-8aa9-a6e915df98d8",
   "metadata": {},
   "outputs": [
    {
     "name": "stdout",
     "output_type": "stream",
     "text": [
      "Последовательность монотонно убывает\n",
      "Последовательность ограничена снизу числом 1\n",
      "5-й по счёту член последовательности равен: 1.04\n"
     ]
    }
   ],
   "source": [
    "def d(n):\n",
    "    return (-1)**(2*n) + 1/(n**2)\n",
    "\n",
    "ns = list(range(1, n+1, 1)) \n",
    "elements = list(map(d, ns))\n",
    "\n",
    "print(monotony(elements))\n",
    "print(f'Последовательность ограничена снизу числом 1')\n",
    "#print(f'Первые {n} членов последовательности: \\n{elements}')\n",
    "print(f'{n}-й по счёту член последовательности равен: {d(ns[n-1])}')"
   ]
  },
  {
   "cell_type": "markdown",
   "id": "6223870a-6153-40ef-a76f-13b80d809bca",
   "metadata": {},
   "source": [
    "2.  Найти 12-й член заданной неявно последовательности\n",
    "\n",
    "$$a_1 = 128$$  \n",
    "$$a_{n+1} - a_n = 6$$"
   ]
  },
  {
   "cell_type": "markdown",
   "id": "1f1f059e-1ba8-4afa-923a-1c34738811e4",
   "metadata": {},
   "source": [
    "Введем переменную:\n",
    "$$q = a_{n+1} - a_n = 6$$\n",
    "\n",
    "Тогда:\n",
    "$$a_{n+1} = q + a_n$$\n",
    "$$a_2 = q + a_1 = 6 + 128 = 134$$\n",
    "$$a_3 = q + a_2 = q + q + a_1 = 6 + 6 + 128 = 140$$\n",
    "\n",
    "Отсюда можно вывести общую формулу:\n",
    "$$a_n = q*(n - 1) + a_1$$"
   ]
  },
  {
   "cell_type": "code",
   "execution_count": 8,
   "id": "66148fb5-d012-4719-a0ff-02ed42376702",
   "metadata": {},
   "outputs": [],
   "source": [
    "# Искомый по счёту член\n",
    "n = 12"
   ]
  },
  {
   "cell_type": "code",
   "execution_count": 9,
   "id": "8ee1be5b-218c-4c6a-8be5-a627fb2a32e9",
   "metadata": {},
   "outputs": [
    {
     "name": "stdout",
     "output_type": "stream",
     "text": [
      "Ответ: 12-й член последовательности равен 194\n"
     ]
    }
   ],
   "source": [
    "a1 = 128\n",
    "q = 6\n",
    "\n",
    "an = q * (n-1) + a1\n",
    "\n",
    "print(f'Ответ: {n}-й член последовательности равен {an}')"
   ]
  },
  {
   "cell_type": "markdown",
   "id": "41ebc809-443a-4df9-b928-b285fb349bfb",
   "metadata": {},
   "source": [
    "3. *На языке Python предложить алгоритм вычисляющий численно предел с точностью   \n",
    "\n",
    "$$\\varepsilon = 10^{-7}$$\n",
    "$$\\displaystyle \\lim_{x \\to +\\infty} \\frac{n}{\\sqrt[n]{n!}}$$"
   ]
  },
  {
   "cell_type": "code",
   "execution_count": 10,
   "id": "51267e68-6ffa-4771-ae91-ddf7a25d05c3",
   "metadata": {},
   "outputs": [],
   "source": [
    "def function(n):\n",
    "    return n / pow(factorial(n), 1/n)"
   ]
  },
  {
   "cell_type": "code",
   "execution_count": 11,
   "id": "92cce1c9-8cd4-489c-8edd-f690d7ad0182",
   "metadata": {},
   "outputs": [
    {
     "name": "stdout",
     "output_type": "stream",
     "text": [
      "Количество итераций: 11779\n",
      "Значение function(n): 2.71698832372746\n",
      "CPU times: user 7.72 s, sys: 34.9 ms, total: 7.75 s\n",
      "Wall time: 7.75 s\n"
     ]
    }
   ],
   "source": [
    "%%time\n",
    "eps = 10 ** -7\n",
    "i = 1\n",
    "n = 1\n",
    "x0 = function(n)\n",
    "while True:\n",
    "    i += 1\n",
    "    n += 1\n",
    "    x1 = function(n)\n",
    "    if abs(x0 - x1) <= eps:\n",
    "        break\n",
    "    x0 = x1\n",
    "print(f'Количество итераций: {i}')\n",
    "print(f'Значение function(n): {x0}')"
   ]
  },
  {
   "cell_type": "markdown",
   "id": "d1496377-1c92-415d-b937-6589a602527f",
   "metadata": {},
   "source": [
    "4. *Предложить оптимизацию алгоритма, полученного в задании 3, ускоряющую его сходимость."
   ]
  },
  {
   "cell_type": "code",
   "execution_count": 12,
   "id": "4d0e121e-0d13-4439-a8ef-352439f33eb9",
   "metadata": {},
   "outputs": [
    {
     "name": "stdout",
     "output_type": "stream",
     "text": [
      "Количество итераций: 293\n",
      "Значение function(n): 2.71718118208185\n",
      "CPU times: user 202 ms, sys: 7.94 ms, total: 209 ms\n",
      "Wall time: 210 ms\n"
     ]
    }
   ],
   "source": [
    "%%time\n",
    "eps = 10 ** -7\n",
    "i = 1\n",
    "n = 1\n",
    "x0 = function(n)\n",
    "while True:\n",
    "    i += 1\n",
    "    n += random.randint(1, 100)\n",
    "    x1 = function(n)\n",
    "    if abs(x0 - x1) <= eps:\n",
    "        break\n",
    "    x0 = x1\n",
    "print(f'Количество итераций: {i}')\n",
    "print(f'Значение function(n): {x0}')"
   ]
  }
 ],
 "metadata": {
  "kernelspec": {
   "display_name": "Python 3 (ipykernel)",
   "language": "python",
   "name": "python3"
  },
  "language_info": {
   "codemirror_mode": {
    "name": "ipython",
    "version": 3
   },
   "file_extension": ".py",
   "mimetype": "text/x-python",
   "name": "python",
   "nbconvert_exporter": "python",
   "pygments_lexer": "ipython3",
   "version": "3.9.7"
  }
 },
 "nbformat": 4,
 "nbformat_minor": 5
}
