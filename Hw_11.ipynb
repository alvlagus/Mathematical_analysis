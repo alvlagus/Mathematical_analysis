{
 "cells": [
  {
   "cell_type": "markdown",
   "id": "274da626-e35d-4760-a2cf-6d7c40dba602",
   "metadata": {},
   "source": [
    "## Практическое задание к уроку 11: \"Интеграл. Ряды. Часть 2\"\n",
    "### Ряды"
   ]
  },
  {
   "cell_type": "markdown",
   "id": "dfd582c6-679f-475f-85df-269144966a6b",
   "metadata": {},
   "source": [
    "**1. Исследовать ряд на сходимость, используя признак д’Аламбера:**"
   ]
  },
  {
   "cell_type": "markdown",
   "id": "c6e5bb69-1703-4baa-9635-eae024b81008",
   "metadata": {},
   "source": [
    "$$\\displaystyle \\sum_{n=1}^\\infty{\\frac{n^n}{(n!)^2}}$$"
   ]
  },
  {
   "cell_type": "markdown",
   "id": "92b3e9c4-76fb-4320-bbeb-680b7d7387ae",
   "metadata": {},
   "source": [
    "$\\displaystyle \\sum_{n=1}^\\infty{\\frac{n^n}{(n!)^2}}$  \n",
    "Необходимое условие:  \n",
    "$\\displaystyle \\lim_{n \\to \\infty}{\\frac{n^n}{(n!)^2}} = 0$ - условие соблюдается  \n",
    "Достаточное условие:  \n",
    "$\\displaystyle \\lim_{n \\to \\infty}{\\frac{a_{n+1}}{a_{n}}} = q$  \n",
    "$\\displaystyle \\lim_{n \\to \\infty}{\\frac{(n+1)^{n+1}}{((n+1)!)^{2}}} : \\frac{n^n}{(n!)^2} = \\lim_{n \\to \\infty}{\\frac{(n+1)^{n+1} \\cdot (n!)^{2}}{((n+1)!)^{2} \\cdot n^n}} = \\lim_{n \\to \\infty}{\\frac{(n+1)^{n+1} \\cdot (n!)^{2}}{(n!)^{2} \\cdot (n+1)^{2} \\cdot n^n}} = \\lim_{n \\to \\infty}{\\frac{(n+1)^{n+1}}{(n+1)^{2} \\cdot n^n}} =  \\lim_{n \\to \\infty}{\\frac{(n+1)^n \\cdot (n+1)}{(n+1)^{2} \\cdot n^n}} = \\lim_{n \\to \\infty}{\\frac{(n+1)^n}{(n+1) \\cdot n^n}} = \\lim_{n \\to \\infty}{\\frac{1}{n+1}} \\cdot \\lim_{n \\to \\infty}{\\frac{(n+1)^n}{n^n}} = \\lim_{n \\to \\infty}{\\frac{1}{n+1}} \\cdot \\lim_{n \\to \\infty}{\\left(\\frac{n+1}{n} \\right)^n} = 0 \\cdot e = 0 < 1 \\implies \\color{red}{\\text{ряд сходится}}$ "
   ]
  },
  {
   "cell_type": "markdown",
   "id": "ee00e43b-0fe2-46d0-a04f-60c672bf195f",
   "metadata": {},
   "source": [
    "**2. Исследовать ряд на сходимость, используя радикальный признак Коши:**"
   ]
  },
  {
   "cell_type": "markdown",
   "id": "2b086a4e-a8bc-427d-a96d-9f2a5bd26cd9",
   "metadata": {},
   "source": [
    "$$\\displaystyle \\sum_{n=1}^\\infty{\\frac{n}{2^n}}$$"
   ]
  },
  {
   "cell_type": "markdown",
   "id": "56f12be9-94c0-4b27-be30-fba26e3d37f2",
   "metadata": {},
   "source": [
    "$\\displaystyle \\sum_{n=1}^\\infty{\\frac{n}{2^n}}$  \n",
    "Необходимое условие:  \n",
    "$\\displaystyle \\lim_{n \\to \\infty}{\\frac{n}{2^n}} = 0$ - условие выполняется, т.к. знаменатель будет намного больше числителя  \n",
    "Достаточное условие:  \n",
    "$\\displaystyle \\lim_{n \\to \\infty}{\\sqrt[n]{a_n}} = q$  \n",
    "$\\displaystyle \\lim_{n \\to \\infty}{\\sqrt[n]{\\frac{n}{2^n}}} = \\lim_{n \\to \\infty}{\\frac{\\sqrt[n]{n}}{\\sqrt[n]{2^n}}} = \\lim_{n \\to \\infty}{\\frac{\\sqrt[n]{n}}{1}} = \\frac{1}{2} < 1 \\implies \\color{red}{\\text{ряд сходится}}$ "
   ]
  },
  {
   "cell_type": "markdown",
   "id": "b5758cdc-da6c-4c0c-acaa-a90bf56db46b",
   "metadata": {},
   "source": [
    "**3. Исследовать ряд на сходимость, используя признак Лейбница:**"
   ]
  },
  {
   "cell_type": "markdown",
   "id": "d33dc1a5-4baa-46a8-9bd6-a86815f5c68f",
   "metadata": {},
   "source": [
    "$$\\displaystyle \\sum_{n=1}^\\infty{\\frac{(-1)^n}{n+\\ln{n}}}$$"
   ]
  },
  {
   "cell_type": "markdown",
   "id": "e829fa4c-bef7-4436-ac6f-5b4ab75ba984",
   "metadata": {},
   "source": [
    "$\\displaystyle \\sum_{n=1}^\\infty{\\frac{(-1)^n}{n+\\ln{n}}}$  \n",
    "Признак Лейбница:\n",
    "1. $\\displaystyle \\lim_{n \\to \\infty}{a_n} = 0$\n",
    "2. $\\displaystyle|a_n| \\ge |a_{n+1}|$  \n",
    "Приведем 3 первые члена ряда:\n",
    "$\\displaystyle a_1 = \\frac{-1}{1 + \\ln{1}} = -1; a_2 = \\frac{(-1)^2}{2 + \\ln{2}} = \\frac{1}{2 + \\ln{2}}; a_3 = \\frac{(-1)^3}{3 + \\ln{3}} = \\frac{-1}{3 + \\ln{3}}$  \n",
    "Т.к. в числителе $(-1)^n$, то рассатриваемый ряд является знакопеременным и знакочередующимся  \n",
    "$\\displaystyle \\lim_{n \\to \\infty}{\\frac{(-1)^n}{n+\\ln{n}}} = 0 \\implies \\color{red}{\\text{верно}}$  \n",
    "$\\displaystyle|a_1| \\ge |a_{2}| \\implies \\left|\\frac{-1}{1 + \\ln{1}} = -1 \\right| > \\left|a_2 = \\frac{(-1)^2}{2 + \\ln{2}} = \\frac{1}{2 + \\ln{2}} \\right| \\implies \\color{red}{\\text{верно}}$  \n",
    "Следовательно, ряд сходится. Определим абсолютная или условная сходимость  \n",
    "$\\left| \\frac{(-1)^n}{n+\\ln{n}} \\right|= \\frac{1}{n+\\ln{n}}$  \n",
    "$\\displaystyle \\lim_{n \\to \\infty}{\\frac{1}{n+\\ln{n}}}$  \n",
    "Упростим выражение:  \n",
    "$\\displaystyle \\lim_{n \\to \\infty}{(n+\\ln{n})} = n$  \n",
    "$\\displaystyle \\lim_{n \\to \\infty}{\\frac{1}{n}}$  \n",
    "$\\displaystyle \\int_{1}^{\\infty}{\\frac{1}{n}} = \\left(\\ln{n}\\right)|_{1}^{\\infty} = \\lim_{n \\to \\infty}{\\ln{n} - 0} = \\infty - 0 = \\infty$\n",
    "Т.к. несобственный интеграл расходится, то расходится и исследуемый ряд. Следовательно, исходный ряд **сходится условно**.\n"
   ]
  },
  {
   "cell_type": "markdown",
   "id": "9666facd-558e-48d0-be2c-a82d278eb76e",
   "metadata": {},
   "source": [
    "**4. Исследовать ряд на сходимость, используя признак Раабе:**"
   ]
  },
  {
   "cell_type": "markdown",
   "id": "1bdcbf5d-41b4-441f-b76f-bb77f26cf219",
   "metadata": {},
   "source": [
    "$$\\displaystyle \\sum_{n=1}^\\infty{\\frac{3^n}{2^n}}$$"
   ]
  },
  {
   "cell_type": "markdown",
   "id": "6c0c47ed-7a04-4895-8b16-98a67d208186",
   "metadata": {},
   "source": [
    "$\\displaystyle \\sum_{n=1}^\\infty{\\frac{3^n}{2^n}}$  \n",
    "Признак Раабе:  \n",
    "$\\displaystyle \\lim_{n \\to \\infty}{\\left( n \\cdot \\left(\\frac{a_n}{a_{n+1}} - 1 \\right) \\right)}$  \n",
    "$\\displaystyle \\lim_{n \\to \\infty}{\\left( n \\cdot \\left(\\frac{3^n}{2^n} : \\frac{3^{n+1}}{2^{n+1}} - 1 \\right) \\right)} = \\lim_{n \\to \\infty}{\\left( n \\cdot \\left(\\frac{2}{3} - 1 \\right) \\right)} = \\lim_{n \\to \\infty}{\\left( -\\frac{1}{3}n \\right)} = -\\infty < 1 \\implies \\color{red}{\\text{ряд расходится}}$"
   ]
  },
  {
   "cell_type": "markdown",
   "id": "be24f10e-0ff7-45ed-acb9-ccacce6ba723",
   "metadata": {},
   "source": [
    "**5.Разложить функцию по Тейлору в 1:**"
   ]
  },
  {
   "cell_type": "markdown",
   "id": "147973ca-c749-4139-89d2-f8bb8f945ed6",
   "metadata": {},
   "source": [
    "$$\\displaystyle f(x) = \\ln{(16x^{2})}$$"
   ]
  },
  {
   "cell_type": "markdown",
   "id": "1834eeed-4d55-4238-908b-8dbf62c6c49e",
   "metadata": {},
   "source": [
    "Ряд Тейлора:  \n",
    "$\\displaystyle f(x) = \\sum_{n=0}^{\\infty}{\\frac{f^{(n)}(a)}{n!}(x-a)^n}$"
   ]
  },
  {
   "cell_type": "markdown",
   "id": "b5ecf79d-70e0-4926-ada0-6a4d9d34d49f",
   "metadata": {},
   "source": [
    "$\\displaystyle f(x) = \\ln{(16x^{2})}$\n",
    "$\\displaystyle f(x) = \\sum_{n=1}^{\\infty}{\\frac{f^{(n)}(16x^{2})}{n!}(x-a)^n}$\n",
    "$\\displaystyle f(x) = \\ln{(16x^{2})} = \\ln{(16)} + \\frac{(\\ln{16x^2})'}{1!}(x-1)^1 + \\frac{\\ln^{(2)}{16x^2}}{2!}(x-1)^2 + \\frac{\\ln^{(3)}{16x^2}}{3!}(x-1)^3 + ... + \\frac{\\ln^{(k)}{16x^2}}{k!}(x-1)^k$  \n",
    "$\\displaystyle f(x) = \\ln{(16x^{2})} = \\ln{(16)} + \\frac{2}{1!}(x-1)^1 - \\frac{2}{2!}(x-1)^2 + \\frac{4}{3!}(x-1)^3 + ... + \\frac{\\ln^{(k)}{16x^2}}{k!}(x-1)^k$  \n",
    "$\\ln(16x^2)' = \\frac{2}{x} = 2$  \n",
    "$\\ln(16x^2)'' = -\\frac{2}{x^2} = -2$  \n",
    "$\\ln(16x^2)''' = \\frac{4}{x^3} = 4$  "
   ]
  },
  {
   "cell_type": "markdown",
   "id": "5ffe4460-55ee-47b4-a423-ab4a14c0f592",
   "metadata": {},
   "source": [
    "**6. * Дана функция $f(x) = x^2$**  \n",
    "**a. Разложить функцию в ряд Фурье по косинусам на отрезке $x \\in [-\\pi; \\pi]$**  \n",
    "**b. Построить график функции и ее разложения.**"
   ]
  },
  {
   "cell_type": "markdown",
   "id": "3d6313f2-bfc9-4af0-bee3-a481c3021327",
   "metadata": {},
   "source": []
  }
 ],
 "metadata": {
  "kernelspec": {
   "display_name": "Python 3 (ipykernel)",
   "language": "python",
   "name": "python3"
  },
  "language_info": {
   "codemirror_mode": {
    "name": "ipython",
    "version": 3
   },
   "file_extension": ".py",
   "mimetype": "text/x-python",
   "name": "python",
   "nbconvert_exporter": "python",
   "pygments_lexer": "ipython3",
   "version": "3.9.7"
  }
 },
 "nbformat": 4,
 "nbformat_minor": 5
}
