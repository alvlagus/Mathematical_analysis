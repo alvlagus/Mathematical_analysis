{
 "cells": [
  {
   "cell_type": "markdown",
   "id": "274da626-e35d-4760-a2cf-6d7c40dba602",
   "metadata": {},
   "source": [
    "## Практическое задание к уроку 4: \"Предел функции. Часть 2\""
   ]
  },
  {
   "cell_type": "markdown",
   "id": "55eff14a-61a9-4f1c-9509-a9d9fe72f53d",
   "metadata": {
    "tags": []
   },
   "source": [
    "### Тема “Предел функции”"
   ]
  },
  {
   "cell_type": "markdown",
   "id": "646fbf28-000f-42be-8833-a592c360e949",
   "metadata": {},
   "source": [
    "**4. Найти предел:**"
   ]
  },
  {
   "cell_type": "markdown",
   "id": "641b950f-8c82-48cb-9515-88b9f1cb6c68",
   "metadata": {},
   "source": [
    "c. $$\\displaystyle \\lim_{x \\to \\infty} (\\frac{x+3}{x})^{4x+1}$$"
   ]
  },
  {
   "cell_type": "markdown",
   "id": "5a0d4c82-98ca-4c8c-a028-77b47b93a5c0",
   "metadata": {},
   "source": [
    "Второй замечательный предел:  \n",
    "$\\displaystyle \\lim_{x \\to \\infty} (\\frac{x+3}{x})^{4x+1} = (1)^{\\infty} = \\displaystyle \\lim_{x \\to \\infty} (1+\\frac{3}{x})^{(4x+1)*(\\frac{3}{x})*(\\frac{x}{3})} = e^{\\displaystyle \\lim_{x \\to \\infty} ((4x+1)*(\\frac{3}{x})} = \n",
    "e^{\\displaystyle \\lim_{x \\to \\infty} (12 + \\frac{3}{x})} = e^{12}$"
   ]
  },
  {
   "cell_type": "markdown",
   "id": "beac4515-a022-476a-81b4-08559ad8cdb4",
   "metadata": {},
   "source": [
    "### Тема “Теоремы о пределах”"
   ]
  },
  {
   "cell_type": "markdown",
   "id": "254120cb-a2a4-4f7c-8627-0efee4eef8f0",
   "metadata": {},
   "source": [
    "**1. Найти предел:**"
   ]
  },
  {
   "cell_type": "markdown",
   "id": "4049057d-0f8c-4cca-a462-861bcab0f08e",
   "metadata": {},
   "source": [
    "d. $$\\displaystyle \\lim_{x \\to \\infty} (\\frac{4x+3}{4x-3})^{6x}$$"
   ]
  },
  {
   "cell_type": "markdown",
   "id": "c80b3a3d-499f-4055-b84d-722686921908",
   "metadata": {},
   "source": [
    "Второй замечательный предел:  \n",
    "$\\displaystyle \\lim_{x \\to \\infty} (\\frac{4x+3}{4x-3})^{6x} = (1)^{\\infty} = \\displaystyle \\lim_{x \\to \\infty} (\\frac{(4x-3)+6}{4x-3})^{6x} = \\displaystyle \\lim_{x \\to \\infty} (1 + \\frac{6}{4x-3})^{6x*(\\frac{4x-3}{6})*(\\frac{6}{4x-3})} = e^{\\displaystyle \\lim_{x \\to \\infty} {6x*(\\frac{6}{4x-3})}} = e^{\\displaystyle \\lim_{x \\to \\infty} ({\\frac{36x}{4x-3}})} = e^{\\frac{36}{4}} = e^9$ "
   ]
  },
  {
   "cell_type": "markdown",
   "id": "ff1873c0-77dd-4d7e-9b42-5e02ce496b73",
   "metadata": {},
   "source": [
    "e. $$\\displaystyle \\lim_{x \\to \\infty} \\frac{\\sin{x} + \\ln{x}}{x}$$"
   ]
  },
  {
   "cell_type": "markdown",
   "id": "c406422a-b508-4fdf-83a5-9bacbefa577d",
   "metadata": {},
   "source": [
    "Преобразуем предел суммы в сумму пределов и найдём каждый из них в отдельности:  \n",
    "  \n",
    "  \n",
    "$\\displaystyle \\lim_{x \\to \\infty} \\frac{\\sin{x} + \\ln{x}}{x} = \\displaystyle \\lim_{x \\to \\infty} \\frac{\\sin{x}}{x} + \\displaystyle \\lim_{x \\to \\infty} \\frac{\\ln{x}}{x} = 0 + 0 = 0$  \n",
    "  "
   ]
  },
  {
   "cell_type": "markdown",
   "id": "7a186286-3844-4f83-a3ac-e3f5fc65085b",
   "metadata": {},
   "source": [
    "f. $$\\displaystyle \\lim_{x \\to 0} \\frac{\\sin{(x)} + \\ln{(x)}}{x}$$"
   ]
  },
  {
   "cell_type": "markdown",
   "id": "6c98e7bc-aedc-44f3-80d0-0b6c3c276856",
   "metadata": {},
   "source": [
    "Преобразуем предел суммы в сумму пределов и найдём каждый из них в отдельности. Первое слагаемое - это Первый замечательный предел:  \n",
    "  \n",
    "$\\displaystyle \\lim_{x \\to 0} \\frac{\\sin{x} + \\ln{x}}{x} = \\displaystyle \\lim_{x \\to 0} \\frac{\\sin{x}}{x} + \\displaystyle \\lim_{x \\to 0} \\frac{\\ln{x}}{x} = 1 + (-{\\infty}) = -{\\infty}$  "
   ]
  }
 ],
 "metadata": {
  "kernelspec": {
   "display_name": "Python 3 (ipykernel)",
   "language": "python",
   "name": "python3"
  },
  "language_info": {
   "codemirror_mode": {
    "name": "ipython",
    "version": 3
   },
   "file_extension": ".py",
   "mimetype": "text/x-python",
   "name": "python",
   "nbconvert_exporter": "python",
   "pygments_lexer": "ipython3",
   "version": "3.9.7"
  }
 },
 "nbformat": 4,
 "nbformat_minor": 5
}
