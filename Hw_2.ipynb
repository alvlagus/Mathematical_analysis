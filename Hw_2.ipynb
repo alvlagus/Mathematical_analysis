{
 "cells": [
  {
   "cell_type": "markdown",
   "id": "274da626-e35d-4760-a2cf-6d7c40dba602",
   "metadata": {},
   "source": [
    "## Практическое задание к уроку 2: \"Множество. Последовательность. Часть 1\""
   ]
  },
  {
   "cell_type": "code",
   "execution_count": 1,
   "id": "9cb57395-c58d-4105-b1aa-57d17a72aa43",
   "metadata": {
    "tags": []
   },
   "outputs": [],
   "source": [
    "import random\n",
    "import itertools"
   ]
  },
  {
   "cell_type": "markdown",
   "id": "55eff14a-61a9-4f1c-9509-a9d9fe72f53d",
   "metadata": {},
   "source": [
    "### Тема “Введение в математический анализ”\n",
    "\n",
    "2. Прочитать высказывания математической логики, построить их отрицания и установить истинность.  \n",
    "\n",
    "1) Для любого y от 0 до 1 включительно сигнум равен 1.  \n",
    "Истинность: ложь\n",
    "$$\\forall y \\in [0; 1] : sgn(y)=1$$\n",
    "Отрицание:\n",
    "$$\\exists y \\in [0; 1] : sgn(y)\\ne1$$\n",
    "\n",
    "\n",
    "2) Для любого натурального n большего 2 существуют натуральные x, y, z такие,что x в степени n равен сумме y в степени n и z в степени n.   \n",
    "Истинность: ложь\n",
    "$$\\forall n \\in \\mathbb N>2 : \\exists x, y, z \\in \\mathbb N : x^n = y^n + z^n $$\n",
    "Отрицание:\n",
    "$$\\exists n \\in \\mathbb N>2 : \\forall x, y, z \\in \\mathbb N : x^n \\ne y^n + z^n$$ \n",
    "\n",
    "\n",
    "3) Для любого действительного числа х найдётся большее действительное число Х (или самого большего числа не существует).  \n",
    "Истинность: истина\n",
    "$$\\forall x \\in \\mathbb R \\exists X \\in \\mathbb R :  X > x$$\n",
    "Отрицание:\n",
    "$$\\exists x \\in \\mathbb R \\forall X \\in \\mathbb R : X \\leq x$$\n",
    "\n",
    "\n",
    "4) Для любого комплексного числа х не существует такого комплексного числа y, чтобы х был больше y или x был меньше y.  \n",
    "Истинность: ложь\n",
    "$$\\forall x \\in \\mathbb C \\nexists y \\in \\mathbb C : x > y || x < y$$\n",
    "Отрицание:\n",
    "$$\\exists x \\in \\mathbb C \\exists y \\in \\mathbb C : x \\leq y || x \\geq y$$\n",
    "\n",
    "\n",
    "5) Для любого y от 0 до 𝜋/2 существует такое положительное 𝜀, что sin(y) меньше sin(y + 𝜀).  \n",
    "Истинность: ложь\n",
    "$$\\forall y \\in [0; \\frac\\pi2] \\exists \\varepsilon > 0 : sin(y) < sin(y + \\varepsilon)$$\n",
    "Отрицание:\n",
    "$$\\exists y \\in [0; \\frac\\pi2] \\forall \\varepsilon > 0 : sin(y) \\geq sin(y + \\varepsilon)$$\n",
    "\n",
    "\n",
    "6) Для любого y от 0 до 𝜋 (не включая 𝜋) существует такое положительное 𝜀, что cos(y) больше cos(y + 𝜀)  \n",
    "Истинность: истина\n",
    "$$\\forall y \\in [0; \\pi) \\exists \\varepsilon > 0 : cos(y) > cos(y + \\varepsilon)$$\n",
    "Отрицание:\n",
    "$$\\exists y \\in [0; \\pi) \\forall \\varepsilon > 0 : cos(y) \\leq cos(y + \\varepsilon)$$ \n",
    "\n",
    "\n",
    "7) Существует такое число х, что оно не принадлежит множествам натуральных, целых, рациональных, вещественных, комплексных чисел  \n",
    "Истинность: истина\n",
    "$$\\exists x: x \\notin \\{ \\mathbb{N, Z, Q, R, C} \\}$$\n",
    "Отрицание:\n",
    "$$\\forall x: x \\in \\{ \\mathbb{N, Z, Q, R, C} \\}$$"
   ]
  },
  {
   "cell_type": "markdown",
   "id": "908d33d4-cc0c-4357-8514-d361a5a53abb",
   "metadata": {
    "tags": []
   },
   "source": [
    "### Тема “Множество”\n",
    "\n",
    "1. Даны три множества a,b и с. Необходимо выполнить все изученные виды бинарных операций над всеми комбинациями множеств (Примечание: множества нужно придумать).\n",
    "2. *Выполнить задание 1 на языке Python"
   ]
  },
  {
   "cell_type": "code",
   "execution_count": 2,
   "id": "53372ebe-423b-4f5e-b9ec-b080a9a5f28b",
   "metadata": {},
   "outputs": [],
   "source": [
    "random.seed(42)\n",
    "a = set([random.randint(0, 99) for _ in range(random.randint(1, 10))])\n",
    "b = set([random.randint(0, 99) for _ in range(random.randint(1, 10))])\n",
    "c = {'one', 'two', 'tree', 'four', 'five'}"
   ]
  },
  {
   "cell_type": "code",
   "execution_count": 3,
   "id": "9cd166e2-dd59-4b1c-9113-b6788c12a097",
   "metadata": {},
   "outputs": [
    {
     "name": "stdout",
     "output_type": "stream",
     "text": [
      "a: {3, 94}\n",
      "b: {13, 17, 28, 94, 31}\n",
      "c: {'five', 'tree', 'one', 'two', 'four'}\n"
     ]
    }
   ],
   "source": [
    "print(f'a: {a}')\n",
    "print(f'b: {b}')\n",
    "print(f'c: {c}')"
   ]
  },
  {
   "cell_type": "code",
   "execution_count": 4,
   "id": "588c2e87-36a2-4639-b448-ae3de8f4a8f4",
   "metadata": {},
   "outputs": [],
   "source": [
    "my_set = {'a': a,\n",
    "          'b': b,\n",
    "          'c': c\n",
    "         }"
   ]
  },
  {
   "cell_type": "code",
   "execution_count": 5,
   "id": "4f1a2bdf-c8f4-475b-ad02-79e3a5237924",
   "metadata": {},
   "outputs": [
    {
     "name": "stdout",
     "output_type": "stream",
     "text": [
      "Множества: \n",
      " a:{3, 94}\n",
      " b:{13, 17, 28, 94, 31}\n",
      "Объединение a | b: {17, 3, 28, 13, 94, 31}\n",
      "Пересечение a & b: {94}\n",
      "Разность a - b: {3}\n",
      "Симметричная разность a ^ b: {17, 3, 28, 13, 31}\n",
      "Декартово произведение a * b: {(94, 94), (94, 17), (3, 94), (94, 13), (3, 17), (94, 31), (3, 13), (94, 28), (3, 28), (3, 31)}\n",
      "\n",
      "--------------------------------------------------\n",
      "\n",
      "Множества: \n",
      " a:{3, 94}\n",
      " c:{'five', 'tree', 'one', 'two', 'four'}\n",
      "Объединение a | c: {3, 'five', 'tree', 'one', 'two', 94, 'four'}\n",
      "Пересечение a & c: set()\n",
      "Разность a - c: {3, 94}\n",
      "Симметричная разность a ^ c: {'five', 3, 'tree', 'one', 'two', 94, 'four'}\n",
      "Декартово произведение a * c: {(94, 'tree'), (3, 'four'), (94, 'five'), (3, 'tree'), (3, 'five'), (94, 'one'), (3, 'one'), (94, 'two'), (3, 'two'), (94, 'four')}\n",
      "\n",
      "--------------------------------------------------\n",
      "\n",
      "Множества: \n",
      " b:{13, 17, 28, 94, 31}\n",
      " c:{'five', 'tree', 'one', 'two', 'four'}\n",
      "Объединение b | c: {13, 'four', 17, 'five', 'tree', 'one', 'two', 28, 94, 31}\n",
      "Пересечение b & c: set()\n",
      "Разность b - c: {13, 17, 28, 94, 31}\n",
      "Симметричная разность b ^ c: {13, 'four', 17, 'five', 'one', 'two', 28, 94, 31, 'tree'}\n",
      "Декартово произведение b * c: {(13, 'four'), (94, 'tree'), (28, 'four'), (17, 'four'), (94, 'four'), (31, 'five'), (31, 'one'), (31, 'two'), (13, 'five'), (31, 'tree'), (13, 'one'), (17, 'tree'), (13, 'two'), (17, 'five'), (13, 'tree'), (28, 'five'), (94, 'five'), (31, 'four'), (17, 'one'), (28, 'one'), (94, 'one'), (17, 'two'), (28, 'two'), (94, 'two'), (28, 'tree')}\n",
      "\n",
      "--------------------------------------------------\n",
      "\n"
     ]
    }
   ],
   "source": [
    "for element in itertools.combinations(my_set.keys(), 2):\n",
    "    x, y = element[0], element[1]\n",
    "    print(f'Множества: \\n {x}:{my_set[x]}\\n {y}:{my_set[y]}')\n",
    "    print(f'Объединение {x} | {y}: {my_set[x] | my_set[y]}')\n",
    "    print(f'Пересечение {x} & {y}: {my_set[x] & my_set[y]}')\n",
    "    print(f'Разность {x} - {y}: {my_set[x] - my_set[y]}')\n",
    "    print(f'Симметричная разность {x} ^ {y}: {my_set[x] ^ my_set[y]}')\n",
    "    cartesian = []\n",
    "    for elem in itertools.product(my_set[x], my_set[y]):\n",
    "        cartesian.append(elem)\n",
    "    print(f'Декартово произведение {x} * {y}: {set(cartesian)}')\n",
    "    print(f'\\n{\"-\" * 50}\\n')"
   ]
  },
  {
   "cell_type": "code",
   "execution_count": null,
   "id": "5100facb-874c-4470-9415-e1e7bf614942",
   "metadata": {},
   "outputs": [],
   "source": []
  }
 ],
 "metadata": {
  "kernelspec": {
   "display_name": "Python 3 (ipykernel)",
   "language": "python",
   "name": "python3"
  },
  "language_info": {
   "codemirror_mode": {
    "name": "ipython",
    "version": 3
   },
   "file_extension": ".py",
   "mimetype": "text/x-python",
   "name": "python",
   "nbconvert_exporter": "python",
   "pygments_lexer": "ipython3",
   "version": "3.9.7"
  }
 },
 "nbformat": 4,
 "nbformat_minor": 5
}
