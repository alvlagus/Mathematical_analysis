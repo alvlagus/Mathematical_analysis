{
 "cells": [
  {
   "cell_type": "markdown",
   "id": "274da626-e35d-4760-a2cf-6d7c40dba602",
   "metadata": {},
   "source": [
    "## Практическое задание к уроку 10: \"Интеграл. Ряды. Часть 1\"\n",
    "### Понятие об интеграле"
   ]
  },
  {
   "cell_type": "code",
   "execution_count": 1,
   "id": "7546ff50-a764-4d75-814e-f8ecbbe123e8",
   "metadata": {},
   "outputs": [],
   "source": [
    "from sympy import *\n",
    "init_printing()"
   ]
  },
  {
   "cell_type": "markdown",
   "id": "646fbf28-000f-42be-8833-a592c360e949",
   "metadata": {
    "tags": []
   },
   "source": [
    "**1. Найти неопределенный интеграл:**"
   ]
  },
  {
   "cell_type": "markdown",
   "id": "1dca18bc-5e02-426d-8d5d-5de59d534cba",
   "metadata": {},
   "source": [
    "$$\\displaystyle \\int\\left(2x^2 - 2x - 1 + \\sin{x} - \\cos{x} + \\ln{x} + e^x\\right)dx$$"
   ]
  },
  {
   "cell_type": "markdown",
   "id": "62bf70aa-9d76-4eb2-8fff-80c559ea50ea",
   "metadata": {},
   "source": [
    "$\\displaystyle \\int \\left( 2x^2 - 2x - 1 + \\sin{x} - \\cos{x} + \\ln{x} + e^x \\right)dx=$  \n",
    "$\\displaystyle \\int{2x^2}dx - \\displaystyle \\int{2x}dx - \\displaystyle \\int{1}dx + \\displaystyle \\int{\\sin{x}}dx - \\displaystyle \\int{\\cos{x}}dx + \\displaystyle \\int{\\ln{x}}dx + \\displaystyle \\int{e^x}dx$  \n",
    "$\\displaystyle \\int{2x^2dx} = 2\\int{x^2} = 2 \\cdot \\frac{x^3}{3} + C$  \n",
    "$\\displaystyle \\int{2xdx} = 2\\int{x} = 2 \\cdot \\frac{x^2}{2} = x^2 + C$  \n",
    "$\\displaystyle \\int{1dx} = x + C$  \n",
    "$\\displaystyle \\int{\\sin{x}dx} = -\\cos{x} + C$  \n",
    "$\\displaystyle \\int{\\cos{x}dx} = \\sin{x} + C$  \n",
    "$\\displaystyle \\int{\\ln{x}dx} = x\\ln{x} - x + C$  \n",
    "$\\displaystyle \\int{e^xdx} = e^x + C$  \n",
    "$\\displaystyle \\int{2x^2}dx - \\displaystyle \\int{2x}dx - \\displaystyle \\int{1}dx + \\displaystyle \\int{\\sin{x}}dx - \\displaystyle \\int{\\cos{x}}dx + \\displaystyle \\int{\\ln{x}}dx + \\displaystyle \\int{e^x}dx =$  \n",
    "$\\displaystyle \\frac{2x^3}{3} - x^2 - x + (-\\cos{x}) - \\sin{x} + x\\ln{x} - x + e^x + C=$  \n",
    "$\\displaystyle \\frac{2x^3}{3} - \\frac{2x^2}{2} - 2x -\\cos{x} - \\sin{x} + x\\ln{x} + e^x + C$"
   ]
  },
  {
   "cell_type": "markdown",
   "id": "1cfce9d3-e6b0-4eed-9860-4c028f643a15",
   "metadata": {},
   "source": [
    "или"
   ]
  },
  {
   "cell_type": "code",
   "execution_count": 2,
   "id": "d25f6e4d-9e4f-482a-bd85-cf6eb9cdc6ad",
   "metadata": {},
   "outputs": [
    {
     "data": {
      "image/png": "[encoded data removed]",
      "text/latex": [
       "$\\displaystyle 2 x^{2} - 2 x + e^{x} + \\log{\\left(x \\right)} + \\sin{\\left(x \\right)} - \\cos{\\left(x \\right)} - 1$"
      ],
      "text/plain": [
       "   2          x                               \n",
       "2⋅x  - 2⋅x + ℯ  + log(x) + sin(x) - cos(x) - 1"
      ]
     },
     "execution_count": 2,
     "metadata": {},
     "output_type": "execute_result"
    }
   ],
   "source": [
    "x=Symbol('x')\n",
    "f1=2*pow(x, 2) - 2*x - 1 + sin(x) - cos(x) + ln(x) + exp(x)\n",
    "f1"
   ]
  },
  {
   "cell_type": "code",
   "execution_count": 3,
   "id": "35217dd8-8b8e-4787-a04c-ef26ab8d10fd",
   "metadata": {
    "tags": []
   },
   "outputs": [
    {
     "data": {
      "image/png": "[encoded data removed]",
      "text/latex": [
       "$\\displaystyle \\frac{2 x^{3}}{3} - x^{2} + x \\log{\\left(x \\right)} - 2 x + e^{x} - \\sin{\\left(x \\right)} - \\cos{\\left(x \\right)}$"
      ],
      "text/plain": [
       "   3                                             \n",
       "2⋅x     2                     x                  \n",
       "──── - x  + x⋅log(x) - 2⋅x + ℯ  - sin(x) - cos(x)\n",
       " 3                                               "
      ]
     },
     "execution_count": 3,
     "metadata": {},
     "output_type": "execute_result"
    }
   ],
   "source": [
    "integrate(f1,x)"
   ]
  },
  {
   "cell_type": "markdown",
   "id": "e1a53e75-a5c7-4e35-8390-54cfe8bcf9f8",
   "metadata": {},
   "source": [
    "**2. Найти неопределенный интеграл:**"
   ]
  },
  {
   "cell_type": "markdown",
   "id": "c9905543-ca85-43d8-91af-33bd43a88b31",
   "metadata": {},
   "source": [
    "$$\\int(2x + 6xz^{2} - 5x^{2}y - 3\\ln{z})dx$$"
   ]
  },
  {
   "cell_type": "markdown",
   "id": "802bbf62-860c-4f0a-aee1-758becb59fd0",
   "metadata": {},
   "source": [
    "$\\displaystyle  \\int \\left( 2x + 6xz^{2} - 5x^{2}y - 3\\ln{z} \\right)dx = $  \n",
    "$(6z^{2} + 2)\\displaystyle \\int{x}dx - 5y\\displaystyle \\int{x^{2}}dx - 3\\ln{z}\\displaystyle \\int{1}dx$\n",
    "$\\displaystyle \\int{x}dx = \\frac{x^2}{2} + C$  \n",
    "$\\displaystyle \\int{x^{2}}dx = \\frac{x^3}{3} + C$  \n",
    "$\\displaystyle \\int{1}dx = x + C$  \n",
    "$\\displaystyle (6z^{2} + 2) \\cdot \\frac{x^2}{2} - 5y \\cdot \\frac{x^3}{3} - 3\\ln{z} \\cdot x + C = $  \n",
    "$\\displaystyle (3z^{2} + 1) \\cdot x^2 - \\frac{5yx^3}{3} - 3\\ln{z} \\cdot x + C$"
   ]
  },
  {
   "cell_type": "markdown",
   "id": "324d4b5a-5301-4a85-b4be-b46a0fbb44ec",
   "metadata": {},
   "source": [
    "или"
   ]
  },
  {
   "cell_type": "code",
   "execution_count": 4,
   "id": "69f5e7f3-69f6-46f7-b012-e10368db76d4",
   "metadata": {},
   "outputs": [
    {
     "data": {
      "image/png": "[encoded data removed]",
      "text/latex": [
       "$\\displaystyle - 5 x^{2} y + 6 x z^{2} + 2 x - 3 \\log{\\left(z \\right)}$"
      ],
      "text/plain": [
       "     2          2                 \n",
       "- 5⋅x ⋅y + 6⋅x⋅z  + 2⋅x - 3⋅log(z)"
      ]
     },
     "execution_count": 4,
     "metadata": {},
     "output_type": "execute_result"
    }
   ],
   "source": [
    "x=Symbol('x')\n",
    "y=Symbol('y')\n",
    "z=Symbol('z')\n",
    "f2=2*x + 6*x*pow(z, 2) - 5*pow(x, 2)*y - 3*ln(z)\n",
    "f2"
   ]
  },
  {
   "cell_type": "code",
   "execution_count": 5,
   "id": "4517d4fb-734e-4466-8ab4-f50330ec3992",
   "metadata": {},
   "outputs": [
    {
     "data": {
      "image/png": "[encoded data removed]",
      "text/latex": [
       "$\\displaystyle - \\frac{5 x^{3} y}{3} + x^{2} \\left(3 z^{2} + 1\\right) - 3 x \\log{\\left(z \\right)}$"
      ],
      "text/plain": [
       "     3                               \n",
       "  5⋅x ⋅y    2 ⎛   2    ⎞             \n",
       "- ────── + x ⋅⎝3⋅z  + 1⎠ - 3⋅x⋅log(z)\n",
       "    3                                "
      ]
     },
     "execution_count": 5,
     "metadata": {},
     "output_type": "execute_result"
    }
   ],
   "source": [
    "integrate(f2,x)"
   ]
  },
  {
   "cell_type": "markdown",
   "id": "fdf4d635-8ba6-45ca-9630-f2fee1b04ca0",
   "metadata": {},
   "source": [
    "**3. Вычислить определенный интеграл:**"
   ]
  },
  {
   "cell_type": "markdown",
   "id": "603744f4-036a-4564-bb82-60051d360a15",
   "metadata": {},
   "source": [
    "$$\\int_{0}^{\\pi}3x^2\\sin{(2x)}dx$$"
   ]
  },
  {
   "cell_type": "markdown",
   "id": "6f8ec022-d06b-4e15-acea-5101c7963bc7",
   "metadata": {},
   "source": [
    "$\\displaystyle \\int_{0}^{\\pi}3x^2\\sin{(2x)}dx = 3\\int_{0}^{\\pi}x^2\\sin{(2x)}dx$  \n",
    "$\\displaystyle \\int{U}dV = UV - \\int{V}dU$  \n",
    "$\\displaystyle U = x^2 \\implies dU = 2xdx$  \n",
    "$\\displaystyle dV = sin(2x)dx \\implies V = -\\frac{1}{2}\\cos{2x}$  \n",
    "$\\displaystyle 3\\int_{0}^{\\pi}x^2\\sin{(2x)}dx = 3 \\cdot \\left(x^2 \\cdot  (-\\frac{1}{2}\\cos{2x}) - \\int{-2x\\frac{1}{2}\\cos{(2x)}dx}\\right) = 3 \\cdot \\left(-\\frac{x^2\\cos{2x}}{2} + \\int{x\\cos{(2x)}dx}\\right)$  \n",
    "$\\displaystyle\\int{x\\cos{(2x)}dx}$  \n",
    "$\\displaystyle U = x \\implies dU = dx$  \n",
    "$\\displaystyle dV = \\cos{(2x)}dx \\implies V = \\frac{1}{2}\\sin{2x}$  \n",
    "$\\displaystyle \\int{x\\cos{(2x)}dx} = x \\cdot \\frac{1}{2}\\sin{2x} - \\int{\\frac{1}{2}\\sin{2x}}dx$  \n",
    "$\\displaystyle \\int{\\frac{1}{2}\\sin{2x}}dx = \\frac{1}{2} \\cdot \\left(-\\frac{1}{2}\\right)\\cos{2x} = -\\frac{1}{4}\\cos{2x}$  \n",
    "$\\displaystyle \\int{x\\cos{(2x)}dx} = x \\cdot \\frac{1}{2}\\sin{2x} - \\left(-\\frac{1}{4}\\cos{2x}\\right) = x \\cdot \\frac{1}{2}\\sin{2x} + \\frac{1}{4}\\cos{2x}$  \n",
    "$\\displaystyle 3\\int_{0}^{\\pi}x^2\\sin{(2x)}dx = 3 \\cdot \\left(-\\frac{x^2\\cos{2x}}{2} + \\frac{x\\sin{2x}}{2} + \\frac{\\cos{2x}}{4}\\right) + C$  \n",
    "$\\displaystyle \\int_{a}^{b}{f(x)dx} = F(b) - F(a) \\implies \\int_{0}^{\\pi}{f(x)dx} = F(\\pi) - F(0)$  \n",
    "$\\displaystyle F(\\pi) = 3 \\cdot \\left(-\\frac{\\pi^2\\cos{2\\pi}}{2} + \\frac{\\pi\\sin{2\\pi}}{2} + \\frac{\\cos{2\\pi}}{4}\\right) = -\\frac{3\\pi^2}{2} + \\frac{3}{4}$  \n",
    "$\\displaystyle F(0) = 3 \\cdot \\left(-\\frac{0^2\\cos{0}}{2} + \\frac{0\\sin{0}}{2} + \\frac{\\cos{0}}{4}\\right) = \\frac{3}{4}$  \n",
    "$\\displaystyle \\int_{0}^{\\pi}3x^2\\sin{(2x)}dx = -\\frac{3\\pi^2}{2} + \\frac{3}{4} - \\frac{3}{4} = -\\frac{3\\pi^2}{2}$"
   ]
  },
  {
   "cell_type": "markdown",
   "id": "f924031e-8e75-4eff-8965-bfe3efcc4298",
   "metadata": {},
   "source": [
    "или"
   ]
  },
  {
   "cell_type": "code",
   "execution_count": 6,
   "id": "f5df9e87-0af9-49f3-b850-16ac3084e4b3",
   "metadata": {},
   "outputs": [
    {
     "data": {
      "image/png": "[encoded data removed]",
      "text/latex": [
       "$\\displaystyle 3 x^{2} \\sin{\\left(2 x \\right)}$"
      ],
      "text/plain": [
       "   2         \n",
       "3⋅x ⋅sin(2⋅x)"
      ]
     },
     "execution_count": 6,
     "metadata": {},
     "output_type": "execute_result"
    }
   ],
   "source": [
    "x=Symbol('x')\n",
    "f3=3*pow(x, 2)*sin(2*x)\n",
    "f3"
   ]
  },
  {
   "cell_type": "code",
   "execution_count": 7,
   "id": "f0700b41-bd03-499b-9a83-2d3950450063",
   "metadata": {
    "tags": []
   },
   "outputs": [
    {
     "data": {
      "image/png": "[encoded data removed]",
      "text/latex": [
       "$\\displaystyle - \\frac{3 x^{2} \\cos{\\left(2 x \\right)}}{2} + \\frac{3 x \\sin{\\left(2 x \\right)}}{2} + \\frac{3 \\cos{\\left(2 x \\right)}}{4}$"
      ],
      "text/plain": [
       "     2                                     \n",
       "  3⋅x ⋅cos(2⋅x)   3⋅x⋅sin(2⋅x)   3⋅cos(2⋅x)\n",
       "- ───────────── + ──────────── + ──────────\n",
       "        2              2             4     "
      ]
     },
     "execution_count": 7,
     "metadata": {},
     "output_type": "execute_result"
    }
   ],
   "source": [
    "integrate(f3, (x, 0, pi))"
   ]
  },
  {
   "cell_type": "markdown",
   "id": "471e4137-81f4-491c-8073-642a25b29095",
   "metadata": {},
   "source": [
    "**4. Найти неопределенный интеграл:**"
   ]
  },
  {
   "cell_type": "markdown",
   "id": "76119a19-a324-4921-aad5-0513dccaa7ee",
   "metadata": {},
   "source": [
    "$$\\int\\frac{1}{\\sqrt{x+1}}dx$$"
   ]
  },
  {
   "cell_type": "markdown",
   "id": "6a3178fa-47d8-4bb2-8f7d-ec92b246cc4a",
   "metadata": {},
   "source": [
    "$\\displaystyle \\int\\frac{1}{\\sqrt{x+1}}dx$  \n",
    "$\\displaystyle x + 1 = u \\implies x = u -1$  \n",
    "$\\displaystyle dx = du$  \n",
    "$\\displaystyle \\int\\frac{1}{\\sqrt{x+1}}dx = \\int\\frac{1}{\\sqrt{u}}du$  \n",
    "$\\displaystyle \\int{u^n}du = \\frac{u^{n+1}}{n+1}$\n",
    "$\\displaystyle \\int\\frac{1}{\\sqrt{u}}du = \\int{u^{-\\frac{1}{2}}}du = \\frac{u^{-\\frac{1}{2}+1}}{-\\frac{1}{2}+1} + C = 2\\sqrt{u} + C= 2\\sqrt{x + 1} + C$  "
   ]
  },
  {
   "cell_type": "code",
   "execution_count": 8,
   "id": "93ceebd2-1a99-4e10-af4b-3a31d84ead3b",
   "metadata": {},
   "outputs": [
    {
     "data": {
      "image/png": "[encoded data removed]",
      "text/latex": [
       "$\\displaystyle \\frac{1}{\\sqrt{x + 1}}$"
      ],
      "text/plain": [
       "    1    \n",
       "─────────\n",
       "  _______\n",
       "╲╱ x + 1 "
      ]
     },
     "execution_count": 8,
     "metadata": {},
     "output_type": "execute_result"
    }
   ],
   "source": [
    "x=Symbol('x')\n",
    "f4=1/(sqrt(x + 1))\n",
    "f4"
   ]
  },
  {
   "cell_type": "code",
   "execution_count": 9,
   "id": "c17f1d64-8bde-4bd6-ab7d-868d105548c8",
   "metadata": {},
   "outputs": [
    {
     "data": {
      "image/png": "[encoded data removed]",
      "text/latex": [
       "$\\displaystyle 2 \\sqrt{x + 1}$"
      ],
      "text/plain": [
       "    _______\n",
       "2⋅╲╱ x + 1 "
      ]
     },
     "execution_count": 9,
     "metadata": {},
     "output_type": "execute_result"
    }
   ],
   "source": [
    "integrate(f4,x)"
   ]
  },
  {
   "cell_type": "code",
   "execution_count": null,
   "id": "6357f9ed-be99-4226-b85b-aaec8947165a",
   "metadata": {},
   "outputs": [],
   "source": []
  }
 ],
 "metadata": {
  "kernelspec": {
   "display_name": "Python 3 (ipykernel)",
   "language": "python",
   "name": "python3"
  },
  "language_info": {
   "codemirror_mode": {
    "name": "ipython",
    "version": 3
   },
   "file_extension": ".py",
   "mimetype": "text/x-python",
   "name": "python",
   "nbconvert_exporter": "python",
   "pygments_lexer": "ipython3",
   "version": "3.9.7"
  }
 },
 "nbformat": 4,
 "nbformat_minor": 5
}
